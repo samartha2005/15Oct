{
 "cells": [
  {
   "cell_type": "code",
   "execution_count": null,
   "id": "6e10a059-a373-4c3f-b4f1-a912a05b2005",
   "metadata": {},
   "outputs": [],
   "source": [
    "                            # OOPS Assignment"
   ]
  },
  {
   "cell_type": "code",
   "execution_count": null,
   "id": "e6d2944b-bbb2-42b8-8d54-44c4ebb83622",
   "metadata": {},
   "outputs": [],
   "source": [
    "# Constructor : "
   ]
  },
  {
   "cell_type": "code",
   "execution_count": 1,
   "id": "867a518d-e830-4dfc-a0bc-bed403256978",
   "metadata": {},
   "outputs": [
    {
     "name": "stdout",
     "output_type": "stream",
     "text": [
      "Alice\n",
      "30\n"
     ]
    }
   ],
   "source": [
    "'''1.What is a constructor in Python? Explain its purpose and usage.'''\n",
    "\n",
    "# Ans\n",
    "\n",
    "'''\n",
    "In Python, a constructor is a special method within a class that is used to initialize objects of that class. \n",
    "It is defined using the __init__ method. \n",
    "The purpose of a constructor is to set up the initial state of an object when it is created. \n",
    "Constructors are often used to assign values to instance variables and perform any necessary setup tasks for an object.\n",
    "\n",
    "Here's a basic explanation of the purpose and usage of constructors in Python:\n",
    "\n",
    "Purpose:\n",
    "Initialization: The primary purpose of a constructor is to initialize the attributes (variables) of an object \n",
    "when an instance of the class is created. It allows you to provide default values or perform any setup operations\n",
    "necessary to ensure the object is in a valid state.\n",
    "\n",
    "Usage:\n",
    "Declaration: To create a constructor in a Python class, you define a special method called __init__. \n",
    "This method takes at least one argument, usually named self, which refers to the object being created.\n",
    "Attributes Initialization: Inside the constructor, you can assign values to the object's attributes using the self keyword. \n",
    "These attributes represent the state of the object and are accessed using dot notation (e.g., self.attribute_name). '''\n",
    "\n",
    "\n",
    "# code(Example)\n",
    "class Person:\n",
    "    def __init__(self, name, age):\n",
    "        self.name = name\n",
    "        self.age = age\n",
    "person1 = Person(\"Alice\", 30)\n",
    "print(person1.name) \n",
    "print(person1.age)  "
   ]
  },
  {
   "cell_type": "code",
   "execution_count": 26,
   "id": "9195c593-efc5-47cd-89fb-56c1afa00c5d",
   "metadata": {},
   "outputs": [],
   "source": [
    "'''2. Differentiate between a parameterless constructor and a parameterized constructor in Python.'''\n",
    "\n",
    "# Ans\n",
    "'''Parameterless Constructor:\n",
    "\n",
    "1.A parameterless constructor, also known as a default constructor, doesn't accept any parameters.\n",
    "  It is defined using the __init__ method with only the self parameter, which refers to the object itself.\n",
    "2.The purpose of a parameterless constructor is to provide default initializations for object attributes.\n",
    "3.It is often used when you want to create objects with default values for their attributes'''\n",
    "\n",
    "\n",
    "# Code\n",
    "class ParameterlessExample:\n",
    "    def __init__(self):\n",
    "        self.default_value = 0\n",
    "\n",
    "obj1 = ParameterlessExample()\n",
    "\n",
    "\n",
    "'''Parameterized Constructor:\n",
    "\n",
    "1.A parameterized constructor accepts one or more parameters in addition to the self parameter. \n",
    "  These parameters are used to initialize the object's attributes based on the values passed when the object is created.\n",
    "2.The purpose of a parameterized constructor is to allow custom initialization of object attributes \n",
    "  using values provided at the time of object creation.\n",
    "3.It is often used when you need to set specific values for object attributes during object creation.'''\n",
    "\n",
    "\n",
    "# code \n",
    "class register:\n",
    "    def __init__(self, name, email_id):\n",
    "        self.name = name\n",
    "        self.email_id = email_id\n",
    "a=register(\"Samu\",\"samu09@gmail.com\")"
   ]
  },
  {
   "cell_type": "code",
   "execution_count": 29,
   "id": "20ce847f-a168-495a-901f-65cc57b0897b",
   "metadata": {},
   "outputs": [
    {
     "data": {
      "text/plain": [
       "0"
      ]
     },
     "execution_count": 29,
     "metadata": {},
     "output_type": "execute_result"
    }
   ],
   "source": [
    "obj1. default_value"
   ]
  },
  {
   "cell_type": "code",
   "execution_count": 27,
   "id": "fdebc9b0-caf1-4214-981d-733eb6426871",
   "metadata": {},
   "outputs": [
    {
     "data": {
      "text/plain": [
       "'Samu'"
      ]
     },
     "execution_count": 27,
     "metadata": {},
     "output_type": "execute_result"
    }
   ],
   "source": [
    "a.name"
   ]
  },
  {
   "cell_type": "code",
   "execution_count": 28,
   "id": "86336094-c579-4506-b687-0f8c486a748a",
   "metadata": {},
   "outputs": [
    {
     "data": {
      "text/plain": [
       "'samu09@gmail.com'"
      ]
     },
     "execution_count": 28,
     "metadata": {},
     "output_type": "execute_result"
    }
   ],
   "source": [
    "a. email_id"
   ]
  },
  {
   "cell_type": "code",
   "execution_count": 2,
   "id": "fc8b3840-03d7-463a-b4d3-f23694221001",
   "metadata": {},
   "outputs": [
    {
     "name": "stdout",
     "output_type": "stream",
     "text": [
      "Value 1\n",
      "42\n"
     ]
    }
   ],
   "source": [
    "'''3. How do you define a constructor in a Python class? Provide an example.'''\n",
    "\n",
    "# Ans\n",
    "'''\n",
    "In Python, define a constructor in a class using the special method `__init__`. \n",
    "The `__init__` method is automatically called when an instance of the class is created. \n",
    "It allows you to initialize the object's attributes and perform any necessary setup tasks. \n",
    "Here's how you define and use a constructor in a Python class:\n",
    " \n",
    "In the given  above:\n",
    "\n",
    "- We define a class called `MyClass`.\n",
    "- Inside the class, we define the `__init__` method, which takes two parameters (`self`, `parameter1`, and `parameter2`).\n",
    "- Within the constructor, we initialize the object's attributes `attribute1` and `attribute2` \n",
    "  using the values provided when the object is created.\n",
    "- We create an instance of the `MyClass` class by calling the class as if it were a function and \n",
    "  passing the required parameters. This automatically invokes the constructor.\n",
    "- Finally, we access the object's attributes using dot notation.\n",
    "\n",
    "The constructor allows you to set up the initial state of the object by providing values for its attributes. \n",
    "You can have different constructors with different sets of parameters depending on your class's requirements,\n",
    "allowing for flexibility in object initialization.'''\n",
    "\n",
    "# code\n",
    "class MyClass:\n",
    "    def __init__(self, parameter1, parameter2):\n",
    "        self.attribute1 = parameter1\n",
    "        self.attribute2 = parameter2\n",
    "my_object = MyClass(\"Value 1\", 42)\n",
    "print(my_object.attribute1) \n",
    "print(my_object.attribute2) "
   ]
  },
  {
   "cell_type": "code",
   "execution_count": 3,
   "id": "88ca51a9-27da-4623-b5d9-39ffb4d3765b",
   "metadata": {},
   "outputs": [
    {
     "name": "stdout",
     "output_type": "stream",
     "text": [
      "Alice\n",
      "30\n"
     ]
    }
   ],
   "source": [
    "'''4.Explain the `__init__` method in Python and its role in constructors.'''\n",
    "\n",
    "# Ans\n",
    "'''\n",
    "In Python, the __init__ method is a special method within a class that plays a critical role in defining constructors. \n",
    "Constructors are used to initialize objects when instances of a class are created, and the __init__ method is responsible \n",
    "for this initialization.\n",
    "Here's an explanation of the __init__ method and its role in constructors:\n",
    "\n",
    "1.Definition:\n",
    "  The __init__ method is a special method that is automatically called when an object of a class is created. \n",
    "  It is one of the \"magic\" or \"dunder\" methods in Python, identified by the double underscores before and after \"init.\"\n",
    "\n",
    "2.Parameters:\n",
    "  The __init__ method takes at least one parameter, conventionally named self, which refers to the object being created. \n",
    "  It is used to access and manipulate the object's attributes and methods.\n",
    "  Role in Constructors:\n",
    "\n",
    "3.The primary role of the __init__ method is to initialize the object's attributes. It allows you to set up the initial \n",
    "  state of the object by assigning values to its attributes.You can also provide default values or perform setup operations \n",
    "  within the __init__ method to ensure that the object is in a valid state when it is created.\n",
    "\n",
    "4.Usage:\n",
    "  To define a constructor for a class, you create the __init__ method within the class and specify the necessary parameters. \n",
    "  Inside the __init__ method, you use the self parameter to assign values to the object's attributes.\n",
    "  The __init__ method is called automatically when an instance of the class is created, and you pass any required\n",
    "  arguments when creating the object.\n",
    "Here's an example of a class with an __init__ method, which serves as a constructor:\n",
    "'''\n",
    "\n",
    "# Code\n",
    "class Person:\n",
    "    def __init__(self, name, age):\n",
    "        self.name = name\n",
    "        self.age = age\n",
    "person1 = Person(\"Alice\", 30)\n",
    "print(person1.name) \n",
    "print(person1.age)   "
   ]
  },
  {
   "cell_type": "code",
   "execution_count": 4,
   "id": "d3e2e645-4b59-4c8b-8a57-fab830f7fd8f",
   "metadata": {},
   "outputs": [],
   "source": [
    "'''5.In a class named `Person`, create a constructor that initializes the `name` and `age` attributes. \n",
    "Provide an example of creating an object of this class.'''\n",
    "\n",
    "# code\n",
    "class Person:\n",
    "    def __init__(self, name, age):\n",
    "        self.name = name\n",
    "        self.age = age\n",
    "person1 = Person(\"Shree\", 50)"
   ]
  },
  {
   "cell_type": "code",
   "execution_count": 5,
   "id": "26bf5463-44b6-430b-8fa7-2decdd32ad66",
   "metadata": {},
   "outputs": [
    {
     "name": "stdout",
     "output_type": "stream",
     "text": [
      "Shree\n",
      "50\n"
     ]
    }
   ],
   "source": [
    "print(person1.name) \n",
    "print(person1.age) "
   ]
  },
  {
   "cell_type": "code",
   "execution_count": 6,
   "id": "142f5fa2-799c-49bf-9000-d4e3d989c95e",
   "metadata": {},
   "outputs": [
    {
     "name": "stdout",
     "output_type": "stream",
     "text": [
      "Bob\n",
      "25\n"
     ]
    }
   ],
   "source": [
    "'''6.How can you call a constructor explicitly in Python? Give an example.'''\n",
    "\n",
    "# Ans\n",
    "'''\n",
    "In Python, you cannot call a constructor explicitly in the same way you call regular methods. \n",
    "Constructors are automatically called when you create an instance of a class using the class name and parentheses. \n",
    "However, you can achieve similar functionality by defining a class method that creates and initializes an object.\n",
    "Here's an example:\n",
    "'''\n",
    "# Code \n",
    "class Person:\n",
    "    def __init__(self, name, age):\n",
    "        self.name = name\n",
    "        self.age = age\n",
    "\n",
    "    @classmethod\n",
    "    def create_person(cls, name, age):\n",
    "        return cls(name, age)\n",
    "person2 = Person.create_person(\"Bob\", 25)\n",
    "print(person2.name)  \n",
    "print(person2.age)  \n"
   ]
  },
  {
   "cell_type": "code",
   "execution_count": 7,
   "id": "6684a4f9-e783-4cfc-8294-49b6952f2038",
   "metadata": {},
   "outputs": [
    {
     "name": "stdout",
     "output_type": "stream",
     "text": [
      "Komal\n",
      "Bob\n",
      "31\n",
      "26\n"
     ]
    }
   ],
   "source": [
    "'''7.What is the significance of the `self` parameter in Python constructors? Explain with an example.'''\n",
    "\n",
    "# Ans\n",
    "'''\n",
    "In Python constructors, the self parameter is used to refer to the instance of the class being created.\n",
    "It allows you to access and manipulate instance-specific attributes and methods within the constructor. \n",
    "self is a convention, and you can technically name it something else, but it's widely used and recommended for clarity.\n",
    "\n",
    "\n",
    "In this example, the self parameter in the __init__ constructor refers to the instance being created. \n",
    "When you create person1 and person2, the self.name and self.age assignments within the constructor set \n",
    "the name and age attributes specifically for each instance. \n",
    "This allows you to have separate and independent attribute values for each object.'''\n",
    "\n",
    "# Code\n",
    "class Person:\n",
    "    def __init__(self, name, age):\n",
    "        self.name = name\n",
    "        self.age = age\n",
    "person1 = Person(\"Komal\", 55)\n",
    "person2 = Person(\"Bob\", 25)\n",
    "print(person1.name)  \n",
    "print(person2.name)  \n",
    "person1.age = 31\n",
    "person2.age = 26\n",
    "print(person1.age) \n",
    "print(person2.age)  \n"
   ]
  },
  {
   "cell_type": "code",
   "execution_count": 1,
   "id": "10c52ddb-e6f6-4711-b431-24f81e80fa77",
   "metadata": {},
   "outputs": [],
   "source": [
    "'''8.Discuss the concept of default constructors in Python. When are they used?'''\n",
    "\n",
    "# Ans\n",
    "'''\n",
    "In Python, default constructors are not explicitly defined or required, as they are in some other\n",
    "programming languages like C++ or Java. \n",
    "Instead, Python provides a default constructor behavior through the __init__ method of a class. \n",
    "This method is used to initialize the attributes of an instance of the class when it is created.\n",
    "\n",
    "Here's how it works:\n",
    "Class Definition: When you define a class in Python, you can define an __init__ method. \n",
    "This method is known as the constructor and is automatically called when you create an instance of the class.\n",
    "\n",
    "Initialization: Inside the __init__ method, you can specify the initial values for the attributes of the class. \n",
    "These attributes are typically instance variables that belong to the object being created\n",
    "\n",
    "In this example, the __init__ method initializes the name and age attributes when a Person object is created.\n",
    "\n",
    "Object Creation: When you create an instance of the class,\n",
    "Python automatically calls the __init__ method with the specified arguments.'''\n",
    "\n",
    "\n",
    "# Code\n",
    "class Person:\n",
    "    def __init__(self, name, age):\n",
    "        self.name = name\n",
    "        self.age = age\n",
    "person1 = Person(\"Samartha\", 34)\n",
    "person2 = Person(\"Kriti\", 17)"
   ]
  },
  {
   "cell_type": "code",
   "execution_count": 8,
   "id": "b6f98e4c-6925-48d5-9e58-851356fe06af",
   "metadata": {},
   "outputs": [
    {
     "data": {
      "text/plain": [
       "'Kriti'"
      ]
     },
     "execution_count": 8,
     "metadata": {},
     "output_type": "execute_result"
    }
   ],
   "source": [
    "person1. name\n"
   ]
  },
  {
   "cell_type": "code",
   "execution_count": 10,
   "id": "141cbea1-db8d-4d62-b12c-ca2b178e94b8",
   "metadata": {},
   "outputs": [
    {
     "data": {
      "text/plain": [
       "'Kriti'"
      ]
     },
     "execution_count": 10,
     "metadata": {},
     "output_type": "execute_result"
    }
   ],
   "source": [
    "person2. name"
   ]
  },
  {
   "cell_type": "code",
   "execution_count": 6,
   "id": "779ee8a6-5548-407d-8cff-3674803bf1c1",
   "metadata": {},
   "outputs": [
    {
     "data": {
      "text/plain": [
       "34"
      ]
     },
     "execution_count": 6,
     "metadata": {},
     "output_type": "execute_result"
    }
   ],
   "source": [
    "person1. age"
   ]
  },
  {
   "cell_type": "code",
   "execution_count": 11,
   "id": "f65cc1ee-a470-44a2-bf94-120a85a86e65",
   "metadata": {},
   "outputs": [
    {
     "data": {
      "text/plain": [
       "17"
      ]
     },
     "execution_count": 11,
     "metadata": {},
     "output_type": "execute_result"
    }
   ],
   "source": [
    "person2.age"
   ]
  },
  {
   "cell_type": "code",
   "execution_count": 12,
   "id": "c5a1fabd-4bf4-4388-a03e-f512ebc5b69c",
   "metadata": {},
   "outputs": [
    {
     "name": "stdout",
     "output_type": "stream",
     "text": [
      "Area of rect1: 15\n",
      "Area of rect2: 28\n"
     ]
    }
   ],
   "source": [
    "'''9.Create a Python class called `Rectangle` with a constructor that initializes the `width` and `height` attributes.\n",
    "Provide a method to calculate the area of the rectangle.'''\n",
    "\n",
    "# Code\n",
    "class Rectangle:\n",
    "    def __init__(self, width, height):\n",
    "        self.width = width\n",
    "        self.height = height\n",
    "    def calculate_area(self):\n",
    "        return self.width * self.height\n",
    "rect1 = Rectangle(5, 3)  \n",
    "area1 = rect1.calculate_area()  \n",
    "print(f\"Area of rect1: {area1}\")\n",
    "rect2 = Rectangle(7, 4) \n",
    "area2 = rect2.calculate_area() \n",
    "print(f\"Area of rect2: {area2}\")\n"
   ]
  },
  {
   "cell_type": "code",
   "execution_count": 13,
   "id": "e84765a1-54de-4909-a077-dddd5f17a1ed",
   "metadata": {},
   "outputs": [
    {
     "name": "stdout",
     "output_type": "stream",
     "text": [
      "value1 value2\n",
      "value3 value4\n",
      "default_param1 default_param2\n"
     ]
    }
   ],
   "source": [
    "'''10.How can you have multiple constructors in a Python class? Explain with an example'''\n",
    "\n",
    "# Ans\n",
    "'''\n",
    "In Python, you can have multiple constructors in a class by using a combination of methods and class methods. \n",
    "While Python does not support method overloading like some other programming languages, \n",
    "you can achieve the same effect by providing different ways to create instances of a class.\n",
    "One common approach is to use class methods to create alternative constructors.\n",
    "\n",
    "In this example, we have a class MyClass with three constructors:\n",
    "\n",
    "The primary constructor, __init__, takes two parameters.\n",
    "The from_string class method is an alternate constructor that creates an instance by parsing a string and extracting \n",
    "parameters.\n",
    "The default_constructor class method is another alternate constructor that provides default values for the parameters.\n",
    "'''\n",
    "\n",
    "\n",
    "# Code\n",
    "class MyClass:\n",
    "    def __init__(self, param1, param2):\n",
    "        self.param1 = param1\n",
    "        self.param2 = param2\n",
    "    @classmethod\n",
    "    def from_string(cls, string_param):\n",
    "        param1, param2 = string_param.split(',')\n",
    "        return cls(param1, param2)\n",
    "    @classmethod\n",
    "    def default_constructor(cls):\n",
    "        return cls(\"default_param1\", \"default_param2\")\n",
    "obj1 = MyClass(\"value1\", \"value2\")\n",
    "print(obj1.param1, obj1.param2)\n",
    "obj2 = MyClass.from_string(\"value3,value4\")\n",
    "print(obj2.param1, obj2.param2)\n",
    "obj3 = MyClass.default_constructor()\n",
    "print(obj3.param1, obj3.param2)"
   ]
  },
  {
   "cell_type": "code",
   "execution_count": null,
   "id": "90859c0d-572c-4621-8bb3-3862e8b9cc76",
   "metadata": {},
   "outputs": [],
   "source": [
    "'''11.What is method overloading, and how is it related to constructors in Python?'''\n",
    "\n",
    "# Ans\n",
    "'''\n",
    "Method overloading is a concept in object-oriented programming where a class can have multiple methods with \n",
    "the same name but different parameters or different numbers of parameters. The method that gets called is determined \n",
    "at compile-time or runtime based on the number and types of arguments provided when invoking the method. \n",
    "The specific method to be called is resolved based on the method's signature.\n",
    "\n",
    "In some programming languages like Java or C++, you can define multiple methods with the same name but different\n",
    "parameter lists, and the appropriate method is called based on the arguments passed when invoking the method. \n",
    "This is called \"method overloading.\"\n",
    "\n",
    "However, in Python, method overloading in the traditional sense is not directly supported. In Python, \n",
    "if you define multiple methods with the same name in a class, the most recent one defined will overwrite the previous ones, \n",
    "and only the last method will be accessible. Python does not provide method overloading \n",
    "based on the number or types of parameters.\n",
    "\n",
    "That said, method overloading is not directly related to constructors in Python because Python doesn't\n",
    "have traditional constructor overloading like some other languages. In Python, \n",
    "a class can only have one `__init__` constructor method that initializes the object. If you define multiple `__init__` methods\n",
    "in a class, the last one defined will override the previous ones, and only the last one will be used.\n",
    "\n",
    "To achieve multiple constructors or method overloading-like behavior in Python, you can use techniques \n",
    "like default argument values, optional arguments, or class methods, as demonstrated in my previous response. \n",
    "These techniques provide a way to create different ways of initializing objects or invoking methods with varying parameters, \n",
    "but they don't rely on method overloading as it's understood in languages like Java or C++.\n",
    "'''"
   ]
  },
  {
   "cell_type": "code",
   "execution_count": 17,
   "id": "aa3f75d9-2e7c-4cd4-b4c4-fc7c19afa33e",
   "metadata": {},
   "outputs": [
    {
     "name": "stdout",
     "output_type": "stream",
     "text": [
      "[1, 2, 3, 4, 5]\n"
     ]
    }
   ],
   "source": [
    "'''12.Explain the use of the `super()` function in Python constructors. Provide an example.'''\n",
    "\n",
    "# Ans\n",
    "'''\n",
    "In Python, the super() function is used to call a method from a parent or superclass. \n",
    "This is often used in constructors (__init__ methods) when you want to invoke the constructor of the parent\n",
    "class in a derived class. It's particularly useful in cases of inheritance, \n",
    "where you want to initialize the attributes of both the parent and child classes.\n",
    "\n",
    "We have a ParentClass with a constructor that initializes a parameter called parent_param.\n",
    "We create a ChildClass that inherits from ParentClass.\n",
    "In the constructor of ChildClass, we use super().__init(parent_param) to call the constructor of the parent class (ParentClass)\n",
    "and initialize the parent_param attribute. Then, we initialize the child_param attribute specific to the child class.\n",
    "When you create an instance of ChildClass, it first calls the constructor of the parent class using super(),\n",
    "and then it continues with the initialization specific to the child class.\n",
    "\n",
    "This is a common pattern when working with inheritance in Python, as it allows you to reuse and extend the behavior of \n",
    "the parent class while ensuring that all the necessary attributes and methods are properly initialized.\n",
    "'''\n",
    "\n",
    "# Code \n",
    "class Class():\n",
    "    def __init__(self, x):\n",
    "        print(x) \n",
    "class SubClass(Class): \n",
    "    def __init__(self, x): \n",
    "        super().__init__(x) \n",
    "x = [1, 2, 3, 4, 5] \n",
    "a = SubClass(x) "
   ]
  },
  {
   "cell_type": "code",
   "execution_count": 18,
   "id": "fc32cc72-e59e-43be-a898-205636c277ae",
   "metadata": {},
   "outputs": [
    {
     "name": "stdout",
     "output_type": "stream",
     "text": [
      "Title: The Catcher in the Rye\n",
      "Author: J.D. Salinger\n",
      "Published Year: 1951\n"
     ]
    }
   ],
   "source": [
    "'''13.Create a class called `Book` with a constructor that initializes the `title`, `author`, and `published_year` attributes. \n",
    "Provide a method to display book details'''\n",
    "\n",
    "# Code\n",
    "class Book:\n",
    "    def __init__(self, title, author, published_year):\n",
    "        self.title = title\n",
    "        self.author = author\n",
    "        self.published_year = published_year\n",
    "\n",
    "    def display_details(self):\n",
    "        print(\"Title:\", self.title)\n",
    "        print(\"Author:\", self.author)\n",
    "        print(\"Published Year:\", self.published_year)\n",
    "book1 = Book(\"The Catcher in the Rye\", \"J.D. Salinger\", 1951)\n",
    "book1.display_details()\n"
   ]
  },
  {
   "cell_type": "code",
   "execution_count": 1,
   "id": "f374cdf2-31f7-4144-9d52-ff059ade2fab",
   "metadata": {},
   "outputs": [
    {
     "name": "stdout",
     "output_type": "stream",
     "text": [
      "Buddy barks!\n"
     ]
    }
   ],
   "source": [
    "'''14.Discuss the differences between constructors and regular methods in Python classes.'''\n",
    "\n",
    "# Ans\n",
    "'''\n",
    "In Python, constructors and regular methods are essential components of classes, \n",
    "but they serve different purposes and have distinct characteristics. Let's explore the differences between \n",
    "constructors and regular methods in Python classes:\n",
    "\n",
    "\n",
    "1.Purpose:\n",
    "    Constructor: The primary purpose of a constructor is to initialize the attributes of an object when it is created. \n",
    "                 Constructors are typically used to set up the initial state of an object.\n",
    "    Regular Method: Regular methods perform various operations and tasks on the object's attributes. \n",
    "                   They can be used to manipulate or interact with the object's data.\n",
    "\n",
    "2. Name:\n",
    "    Constructor: In Python, the constructor is named __init__. \n",
    "                 It is automatically called when an object is created from a class.\n",
    "    Regular Method: Regular methods have arbitrary names that are chosen by the programmer when defining the method.\n",
    "\n",
    "3.Arguments:\n",
    "    Constructor: The __init__ method takes at least one argument, self, which represents the instance of the object \n",
    "                 being created. It can also take additional parameters that are used to initialize the object's attributes.\n",
    "    Regular Method: Regular methods may or may not take the self parameter, depending on whether they need to access \n",
    "                    and manipulate the object's attributes. They can also take additional parameters as needed.\n",
    "\n",
    "4.Invocation:\n",
    "    Constructor: The constructor is automatically invoked when an object is created. \n",
    "                 You don't need to call it explicitly; it runs as soon as the object is instantiated.\n",
    "    Regular Method: Regular methods must be called explicitly on an object. \n",
    "                    You use the dot notation to call them on an instance of the class.\n",
    "\n",
    "5.Return Value:\n",
    "    Constructor: The __init__ method doesn't return anything explicitly. \n",
    "             It initializes object attributes but doesn't return a value.\n",
    "    Regular Method: Regular methods can return values, and you can use those return values in your program.\n",
    "'''\n",
    "\n",
    "\n",
    "# Code(Example)\n",
    "class Dog:\n",
    "    def __init__(self, name, age):\n",
    "        self.name = name\n",
    "        self.age = age\n",
    "    def bark(self):\n",
    "        print(f\"{self.name} barks!\")\n",
    "my_dog = Dog(\"Buddy\", 3)\n",
    "my_dog.bark()"
   ]
  },
  {
   "cell_type": "code",
   "execution_count": 5,
   "id": "d59dfb29-40f2-4228-9e63-5f609a19d988",
   "metadata": {},
   "outputs": [],
   "source": [
    "'''15.Explain the role of the `self` parameter in instance variable initialization within a constructor.'''\n",
    "\n",
    "# Ans\n",
    "'''\n",
    "In Python, the self parameter plays a crucial role in instance variable initialization within a constructor. \n",
    "The self parameter is a convention used in the __init__ method, which serves as the constructor of a class. \n",
    "Understanding its role is key to effectively working with object-oriented programming in Python.\n",
    "\n",
    "Here's the role of the self parameter in instance variable initialization within a constructor:\n",
    "\n",
    "self Represents the Instance:\n",
    "-->In Python, the self parameter is the first parameter in the __init__ method of a class. \n",
    "-->It represents the instance of the class being created.\n",
    "-->The name self is a convention, and you could technically choose any name for this parameter,\n",
    "   but it is highly recommended to use self for clarity and consistency.\n",
    "\n",
    "Accessing Instance Variables:\n",
    "-->Within the constructor, you use self to refer to the instance (object) being created. \n",
    "-->This allows you to access and initialize instance variables specific to that object.\n",
    "-->By using self, you can distinguish between the instance variables of different objects, \n",
    "  ensuring that each object's data is stored separately.\n",
    "\n",
    "Initializing Instance Variables:\n",
    "-->Instance variables are typically defined within the __init__ method and are preceded by self. \n",
    "-->You can assign values to these variables using the self parameter,\n",
    "    ensuring that they are specific to the instance being created.\n",
    "For example, if you have instance variables self.name and self.age, \n",
    "you can initialize them with specific values for each object in the constructor.\n",
    "'''\n",
    "\n",
    "\n",
    "# Code\n",
    "class Person:\n",
    "    def __init__(self, login_id, password):\n",
    "        self.login_id = login_id \n",
    "        self.password = password\n",
    "person1 = Person(\"sam@123\", 2020)\n",
    "person2 = Person(\"Bob@345\", 1515)"
   ]
  },
  {
   "cell_type": "code",
   "execution_count": 6,
   "id": "400673c1-b975-420c-920b-351fe645bd25",
   "metadata": {},
   "outputs": [
    {
     "data": {
      "text/plain": [
       "'sam@123'"
      ]
     },
     "execution_count": 6,
     "metadata": {},
     "output_type": "execute_result"
    }
   ],
   "source": [
    "person1. login_id"
   ]
  },
  {
   "cell_type": "code",
   "execution_count": 8,
   "id": "82a28e5b-f4f3-4d6f-a480-0186f0155c41",
   "metadata": {},
   "outputs": [
    {
     "data": {
      "text/plain": [
       "'Bob@345'"
      ]
     },
     "execution_count": 8,
     "metadata": {},
     "output_type": "execute_result"
    }
   ],
   "source": [
    "person2. login_id"
   ]
  },
  {
   "cell_type": "code",
   "execution_count": 11,
   "id": "3198063a-1512-4113-9ac7-f9db999a70c3",
   "metadata": {},
   "outputs": [
    {
     "data": {
      "text/plain": [
       "2020"
      ]
     },
     "execution_count": 11,
     "metadata": {},
     "output_type": "execute_result"
    }
   ],
   "source": [
    "person1. password"
   ]
  },
  {
   "cell_type": "code",
   "execution_count": 10,
   "id": "f0d69505-40a2-49e6-8608-367e2100588f",
   "metadata": {},
   "outputs": [
    {
     "data": {
      "text/plain": [
       "1515"
      ]
     },
     "execution_count": 10,
     "metadata": {},
     "output_type": "execute_result"
    }
   ],
   "source": [
    "person2.password"
   ]
  },
  {
   "cell_type": "code",
   "execution_count": 12,
   "id": "772ec0fc-6ad2-4b8d-838d-ccbcfa55f616",
   "metadata": {},
   "outputs": [
    {
     "name": "stdout",
     "output_type": "stream",
     "text": [
      "42\n"
     ]
    }
   ],
   "source": [
    "'''16.How do you prevent a class from having multiple instances by using constructors in Python? Provide an example.'''\n",
    "\n",
    "# Ans\n",
    "'''\n",
    "In Python, you can prevent a class from having multiple instances by implementing a design pattern known as the Singleton \n",
    "pattern. The Singleton pattern ensures that a class has only one instance, and if an instance already exists,\n",
    "it returns that existing instance instead of creating a new one.\n",
    "\n",
    "To implement the Singleton pattern in Python, you can use a combination of a class attribute to store the single instance\n",
    "and a constructor that checks if an instance already exists. Here's an example of how to create a Singleton class:\n",
    "\n",
    "\n",
    "In this example, the __new__ method is used to create a new instance only if the _instance class attribute is None. If an \n",
    "instance already exists, it returns the existing instance, ensuring that there is only one instance of the Singleton class. \n",
    "This pattern allows you to prevent multiple instances of the class by reusing the same instance.\n",
    "\n",
    "Now, when you create singleton1 and singleton2, they both refer to the same instance of the Singleton class. \n",
    "If you set a value in one instance using set_value, you can retrieve the same value using get_value from the other instance. \n",
    "This demonstrates the Singleton pattern's ability to maintain a single instance throughout the program.\n",
    "'''\n",
    "\n",
    "# Code\n",
    "class Singleton:\n",
    "    _instance = None\n",
    "    def __new__(cls):\n",
    "        if cls._instance is None:\n",
    "            cls._instance = super(Singleton, cls).__new__(cls)\n",
    "            cls._instance.value = None\n",
    "        return cls._instance\n",
    "    def set_value(self, value):\n",
    "        self.value = value\n",
    "    def get_value(self):\n",
    "        return self.value\n",
    "singleton1 = Singleton()\n",
    "singleton2 = Singleton()\n",
    "singleton1.set_value(42)\n",
    "value = singleton2.get_value()\n",
    "print(value)"
   ]
  },
  {
   "cell_type": "code",
   "execution_count": 13,
   "id": "de905919-0bd2-4345-ac6f-bcedb22ef4eb",
   "metadata": {},
   "outputs": [
    {
     "name": "stdout",
     "output_type": "stream",
     "text": [
      "['Math', 'Science', 'History']\n"
     ]
    }
   ],
   "source": [
    "'''17.Create a Python class called `Student` with a constructor that takes a list of subjects \n",
    "as a parameter and initializes the `subjects` attribute.'''\n",
    "\n",
    "# Code\n",
    "class Student:\n",
    "    def __init__(self, subjects):\n",
    "        self.subjects = subjects\n",
    "subjects_list = [\"Math\", \"Science\", \"History\"]\n",
    "student1 = Student(subjects_list)\n",
    "print(student1.subjects) "
   ]
  },
  {
   "cell_type": "code",
   "execution_count": 14,
   "id": "21b7a8d0-84d5-4a64-b45e-065201d8b265",
   "metadata": {},
   "outputs": [
    {
     "name": "stdout",
     "output_type": "stream",
     "text": [
      "Acquiring resource: File\n"
     ]
    }
   ],
   "source": [
    "'''18. what is the purpose of the `__del__` method in Python classes, and how does it relate to constructors?'''\n",
    "\n",
    "# Ans\n",
    "'''\n",
    "The __del__ method in Python classes is used for object cleanup and resource deallocation. It is called a destructor,\n",
    "and its purpose is to perform any necessary cleanup operations before an object is destroyed and its memory is deallocated. \n",
    "While constructors (__init__ method) are responsible for object initialization, __del__ takes care of the finalization.\n",
    "Here's how the __del__ method relates to constructors:\n",
    "\n",
    "Initialization and Cleanup:\n",
    "\n",
    "The constructor (__init__) is responsible for setting up an object's initial state, initializing attributes,\n",
    "and performing any setup required when the object is created.The destructor (__del__) is responsible forcleaning up and \n",
    "releasing any resources held by the object when it is no longer needed. This can include closing files, releasing memory,\n",
    "or performing any other resource-related tasks.\n",
    "\n",
    "Automatic Invocation:\n",
    "Constructors are automatically invoked when an object is created from a class.\n",
    "You don't need to explicitly call them; they run as part of the object instantiation process.\n",
    "Destructors (__del__) are also automatically invoked when an object is about to be destroyed.\n",
    "However, the timing of when this happens is determined by the Python garbage collector and is not guaranteed to be \n",
    "immediate or predictable.\n",
    "\n",
    "Use Cases for __del__:\n",
    "The __del__ method can be used when you want to ensure that certain cleanup tasks are performed when an object is no \n",
    "longer referenced or when it goes out of scope.\n",
    "For example, if an object manages external resources such as files, network connections, or database connections, \n",
    "the __del__ method can be used to release these resources when the object is being garbage collected.\n",
    "'''\n",
    "\n",
    "\n",
    "# Code\n",
    "class ResourceHandler:\n",
    "    def __init__(self, resource_name):\n",
    "        self.resource_name = resource_name\n",
    "        print(f\"Acquiring resource: {self.resource_name}\")\n",
    "    def __del__(self):\n",
    "        print(f\"Releasing resource: {self.resource_name}\")\n",
    "obj = ResourceHandler(\"File\")"
   ]
  },
  {
   "cell_type": "code",
   "execution_count": 15,
   "id": "068e21f4-a5e0-45ef-875e-6d67e5f2c189",
   "metadata": {},
   "outputs": [
    {
     "name": "stdout",
     "output_type": "stream",
     "text": [
      "Name: Alice\n",
      "Age: 20\n",
      "Student ID: 12345\n"
     ]
    }
   ],
   "source": [
    "'''19. Explain the use of constructor chaining in Python. Provide a practical example.'''\n",
    "\n",
    "# Ans\n",
    "'''\n",
    "Constructor chaining, also known as constructor delegation, is a concept in object-oriented programming where one \n",
    "constructor of a class calls another constructor within the same class. \n",
    "This allows you to reuse code for common initialization tasks while still providing different ways to construct objects.\n",
    "\n",
    "In Python, constructor chaining is achieved using the super() function. The super() function allows you to call a\n",
    "constructor from a parent class. This is particularly useful in cases where you have multiple constructors with different\n",
    "parameters, and you want to avoid duplicating initialization code.\n",
    "\n",
    "\n",
    "In this example:\n",
    "\n",
    "We have a Person class with a constructor that initializes name and age.\n",
    "\n",
    "We have a Student class that inherits from Person. The Student class has its own constructor that takes name, age, \n",
    "and student_id as parameters.\n",
    "\n",
    "Inside the Student class's constructor, we use super().__init__(name, age) to call the constructor of the parent \n",
    "class (Person). \n",
    "This initializes the name and age attributes, reusing the initialization code from the Person class.\n",
    "\n",
    "We also initialize the student_id attribute in the Student class's constructor.\n",
    "\n",
    "Finally, we create a Student object (student1) and call its display_info method to display the information about the student,\n",
    "including name, age, and student_id.\n",
    "'''\n",
    "\n",
    "# Code\n",
    "class Person:\n",
    "    def __init__(self, name, age):\n",
    "        self.name = name\n",
    "        self.age = age\n",
    "class Student(Person):\n",
    "    def __init__(self, name, age, student_id):\n",
    "        super().__init__(name, age)  \n",
    "        self.student_id = student_id\n",
    "    def display_info(self):\n",
    "        print(f\"Name: {self.name}\")\n",
    "        print(f\"Age: {self.age}\")\n",
    "        print(f\"Student ID: {self.student_id}\")\n",
    "student1 = Student(\"Alice\", 20, \"12345\")\n",
    "student1.display_info()\n"
   ]
  },
  {
   "cell_type": "code",
   "execution_count": 17,
   "id": "830f16a9-8781-462f-941f-befe85d116c5",
   "metadata": {},
   "outputs": [
    {
     "name": "stdout",
     "output_type": "stream",
     "text": [
      "Make: Tesla\n",
      "Model: model S\n"
     ]
    }
   ],
   "source": [
    "'''20.Create a Python class called `Car` with a default constructor that initializes the `make` and `model` attributes.\n",
    "Provide a method to display car information.'''\n",
    "\n",
    "# Code\n",
    "class Car:\n",
    "    def __init__(self, make=\"Tesla\", model=\"model S\"):\n",
    "        self.make = make\n",
    "        self.model = model\n",
    "    def display_info(self):\n",
    "        print(f\"Make: {self.make}\")\n",
    "        print(f\"Model: {self.model}\")\n",
    "car1 = Car()\n",
    "car1.display_info()"
   ]
  }
 ],
 "metadata": {
  "kernelspec": {
   "display_name": "Python 3 (ipykernel)",
   "language": "python",
   "name": "python3"
  },
  "language_info": {
   "codemirror_mode": {
    "name": "ipython",
    "version": 3
   },
   "file_extension": ".py",
   "mimetype": "text/x-python",
   "name": "python",
   "nbconvert_exporter": "python",
   "pygments_lexer": "ipython3",
   "version": "3.10.8"
  }
 },
 "nbformat": 4,
 "nbformat_minor": 5
}
